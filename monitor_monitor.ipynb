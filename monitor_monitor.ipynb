{
 "cells": [
  {
   "cell_type": "code",
   "execution_count": 1,
   "id": "67d85614-05f5-4603-9d68-22b3d780d477",
   "metadata": {
    "scrolled": true
   },
   "outputs": [],
   "source": [
    "from monitor.constants import *\n",
    "from monitor.database.ask_db_tables import *\n",
    "from monitor.database.ask_db_generalities import *"
   ]
  },
  {
   "cell_type": "code",
   "execution_count": 2,
   "id": "d03d95b6-ce44-4b41-a1ed-41559e88fb7f",
   "metadata": {},
   "outputs": [],
   "source": [
    "db_dict = await get_db_connection_strings_and_tables_dict()"
   ]
  },
  {
   "cell_type": "code",
   "execution_count": 3,
   "id": "ab2965f4-d3ba-4431-b846-9eee4479aa4e",
   "metadata": {},
   "outputs": [
    {
     "data": {
      "text/plain": [
       "'31.66 GB'"
      ]
     },
     "execution_count": 3,
     "metadata": {},
     "output_type": "execute_result"
    }
   ],
   "source": [
    "await get_one_db_size('chessism')"
   ]
  },
  {
   "cell_type": "code",
   "execution_count": 4,
   "id": "37ee79f4-e6a5-4ee3-b575-e296c916706d",
   "metadata": {},
   "outputs": [
    {
     "data": {
      "text/plain": [
       "'0.01 GB'"
      ]
     },
     "execution_count": 4,
     "metadata": {},
     "output_type": "execute_result"
    }
   ],
   "source": [
    "await get_one_db_size('pc_stats')"
   ]
  },
  {
   "cell_type": "code",
   "execution_count": 5,
   "id": "01ee47af-4ecf-465c-886d-13e647696335",
   "metadata": {},
   "outputs": [
    {
     "data": {
      "text/plain": [
       "'31.67 GB'"
      ]
     },
     "execution_count": 5,
     "metadata": {},
     "output_type": "execute_result"
    }
   ],
   "source": [
    "await get_dbs_general_size()"
   ]
  },
  {
   "cell_type": "code",
   "execution_count": 6,
   "id": "b5910eec-2622-41c5-9936-e74eb4fda8b4",
   "metadata": {},
   "outputs": [
    {
     "data": {
      "text/plain": [
       "dict_keys(['moves', 'game_fen_association', 'fen', 'player', 'game', 'months'])"
      ]
     },
     "execution_count": 6,
     "metadata": {},
     "output_type": "execute_result"
    }
   ],
   "source": [
    "db_dict['chessism']['tables'].keys()"
   ]
  },
  {
   "cell_type": "code",
   "execution_count": 7,
   "id": "56a71c9c-038e-4542-84a8-9b83f3b6c8dd",
   "metadata": {},
   "outputs": [
    {
     "data": {
      "text/plain": [
       "'0.011 GB'"
      ]
     },
     "execution_count": 7,
     "metadata": {},
     "output_type": "execute_result"
    }
   ],
   "source": [
    "await get_table_size('chessism', 'player')"
   ]
  },
  {
   "cell_type": "markdown",
   "id": "7df86173-86c5-498a-b9f7-3d76678e6e9e",
   "metadata": {},
   "source": [
    "### TABLES"
   ]
  },
  {
   "cell_type": "code",
   "execution_count": 8,
   "id": "7d9f8165-991a-4731-aa22-aefd8ff7a97d",
   "metadata": {},
   "outputs": [
    {
     "data": {
      "text/plain": [
       "dict_keys(['moves', 'game_fen_association', 'fen', 'player', 'game', 'months'])"
      ]
     },
     "execution_count": 8,
     "metadata": {},
     "output_type": "execute_result"
    }
   ],
   "source": [
    "db_dict['chessism']['tables'].keys()"
   ]
  },
  {
   "cell_type": "code",
   "execution_count": 9,
   "id": "6132cc2e-8051-4da7-b124-a82f5ccd35ee",
   "metadata": {},
   "outputs": [
    {
     "data": {
      "text/plain": [
       "{'fen': 51899965,\n",
       " 'n_games': 51899965,\n",
       " 'moves_counter': 51899965,\n",
       " 'next_moves': 456905,\n",
       " 'score': 456905}"
      ]
     },
     "execution_count": 9,
     "metadata": {},
     "output_type": "execute_result"
    }
   ],
   "source": [
    "await table_columns_dict('chessism','fen')"
   ]
  },
  {
   "cell_type": "code",
   "execution_count": 9,
   "id": "f6a4ee49-b41d-46f8-b074-1e25c6883540",
   "metadata": {},
   "outputs": [
    {
     "data": {
      "text/plain": [
       "{'link': 829743,\n",
       " 'white': 829743,\n",
       " 'black': 829743,\n",
       " 'year': 829743,\n",
       " 'month': 829743,\n",
       " 'day': 829743,\n",
       " 'hour': 829743,\n",
       " 'minute': 829743,\n",
       " 'second': 829743,\n",
       " 'white_elo': 829743,\n",
       " 'black_elo': 829743,\n",
       " 'white_result': 829743,\n",
       " 'black_result': 829743,\n",
       " 'white_str_result': 829743,\n",
       " 'black_str_result': 829743,\n",
       " 'time_control': 829743,\n",
       " 'eco': 829743,\n",
       " 'time_elapsed': 829743,\n",
       " 'n_moves': 829743,\n",
       " 'fens_done': 829743}"
      ]
     },
     "execution_count": 9,
     "metadata": {},
     "output_type": "execute_result"
    }
   ],
   "source": [
    "await table_columns_dict('chessism','game')"
   ]
  },
  {
   "cell_type": "code",
   "execution_count": 10,
   "id": "b0d0d76d-f838-460c-8543-bf661de33c9e",
   "metadata": {},
   "outputs": [
    {
     "data": {
      "text/plain": [
       "{'id': 33747245,\n",
       " 'link': 33747245,\n",
       " 'n_move': 33747245,\n",
       " 'white_move': 33747245,\n",
       " 'black_move': 33747245,\n",
       " 'white_reaction_time': 33747245,\n",
       " 'black_reaction_time': 33747245,\n",
       " 'white_time_left': 33747245,\n",
       " 'black_time_left': 33747245}"
      ]
     },
     "execution_count": 10,
     "metadata": {},
     "output_type": "execute_result"
    }
   ],
   "source": [
    "await table_columns_dict('chessism','moves')"
   ]
  },
  {
   "cell_type": "code",
   "execution_count": 14,
   "id": "cfda0ff1-f753-4978-90e1-8b2fe70d29aa",
   "metadata": {},
   "outputs": [
    {
     "name": "stdin",
     "output_type": "stream",
     "text": [
      "Are you sure you want to delete table 'from_game' from database 'chessism'? (yes/no):  yes\n",
      "This is a permanent action. Confirm deletion of 'from_game' again by typing 'yes':  yes\n"
     ]
    },
    {
     "name": "stdout",
     "output_type": "stream",
     "text": [
      "Attempting to delete table 'from_game' from database 'chessism'...\n",
      "Table 'from_game' successfully deleted from database 'chessism'.\n"
     ]
    },
    {
     "data": {
      "text/plain": [
       "True"
      ]
     },
     "execution_count": 14,
     "metadata": {},
     "output_type": "execute_result"
    }
   ],
   "source": [
    "await delete_table_with_confirmation('chessism','from_game')"
   ]
  },
  {
   "cell_type": "code",
   "execution_count": null,
   "id": "ba28da08-ea44-4f8a-9fc6-42a43e202e05",
   "metadata": {},
   "outputs": [],
   "source": []
  },
  {
   "cell_type": "code",
   "execution_count": null,
   "id": "02c7584b-29c9-40b5-ba70-12b38408e5c0",
   "metadata": {},
   "outputs": [],
   "source": []
  },
  {
   "cell_type": "code",
   "execution_count": null,
   "id": "3a2f2a63-cb06-4a08-a5e7-d065292a5053",
   "metadata": {},
   "outputs": [],
   "source": []
  },
  {
   "cell_type": "code",
   "execution_count": 10,
   "id": "f967574d-6d89-40f8-82bc-f7e0bd28ab34",
   "metadata": {},
   "outputs": [
    {
     "name": "stdout",
     "output_type": "stream",
     "text": [
      "Generating precise requirements for: fastapi, uvicorn, asyncpg, python-dotenv, pydantic-settings, pydantic\n",
      "  Found fastapi==0.115.13\n",
      "  Found uvicorn==0.32.1\n",
      "  Found asyncpg==0.30.0\n",
      "  Found python-dotenv==1.1.0\n",
      "  Found pydantic-settings==2.10.1\n",
      "  Found pydantic==2.10.3\n",
      "\n",
      "Successfully generated 'requirements.txt' with precise versions.\n",
      "Content of generated file:\n",
      "fastapi==0.115.13\n",
      "uvicorn==0.32.1\n",
      "asyncpg==0.30.0\n",
      "python-dotenv==1.1.0\n",
      "pydantic-settings==2.10.1\n",
      "pydantic==2.10.3\n",
      "\n",
      "\n",
      "--- Important Note ---\n",
      "This script generates a requirements.txt based on *your current Python environment*.\n",
      "Ensure you run this in the same virtual environment where your project's dependencies are installed.\n",
      "For a truly exhaustive list, `pip freeze > requirements.txt` is often used,\n",
      "but this script gives you control over which packages are included.\n"
     ]
    }
   ],
   "source": [
    "import sys\n",
    "import os\n",
    "from importlib.metadata import version, PackageNotFoundError\n",
    "\n",
    "def generate_precise_requirements(package_names: list[str], output_file: str = 'requirements.txt'):\n",
    "    \"\"\"\n",
    "    Generates a requirements file with the precise installed versions of specified packages.\n",
    "\n",
    "    Args:\n",
    "        package_names (list[str]): A list of package names (e.g., ['fastapi', 'uvicorn']).\n",
    "        output_file (str): The name of the file to write the requirements to.\n",
    "                           Defaults to 'requirements.txt'.\n",
    "    \"\"\"\n",
    "    print(f\"Generating precise requirements for: {', '.join(package_names)}\")\n",
    "    \n",
    "    requirements_content = []\n",
    "    for pkg_name in package_names:\n",
    "        try:\n",
    "            # Get the installed version of the package\n",
    "            pkg_version = version(pkg_name)\n",
    "            requirements_content.append(f\"{pkg_name}=={pkg_version}\")\n",
    "            print(f\"  Found {pkg_name}=={pkg_version}\")\n",
    "        except PackageNotFoundError:\n",
    "            print(f\"  Warning: Package '{pkg_name}' not found in the current environment. Skipping.\")\n",
    "        except Exception as e:\n",
    "            print(f\"  Error retrieving version for '{pkg_name}': {e}\")\n",
    "\n",
    "    if not requirements_content:\n",
    "        print(\"No packages found to write to requirements file.\")\n",
    "        return\n",
    "\n",
    "    try:\n",
    "        with open(output_file, 'w') as f:\n",
    "            for line in requirements_content:\n",
    "                f.write(line + '\\n')\n",
    "        print(f\"\\nSuccessfully generated '{output_file}' with precise versions.\")\n",
    "        print(\"Content of generated file:\")\n",
    "        with open(output_file, 'r') as f:\n",
    "            print(f.read())\n",
    "    except IOError as e:\n",
    "        print(f\"Error writing to file '{output_file}': {e}\")\n",
    "    except Exception as e:\n",
    "        print(f\"An unexpected error occurred: {e}\")\n",
    "\n",
    "\n",
    "if __name__ == \"__main__\":\n",
    "    # Define the core packages your application uses\n",
    "    # You can expand this list with all your project's direct dependencies.\n",
    "    my_application_packages = [\n",
    "        \"fastapi\",\n",
    "        \"uvicorn\",\n",
    "        \"asyncpg\",\n",
    "        \"python-dotenv\",\n",
    "        \"pydantic-settings\",\n",
    "        \"pydantic\"\n",
    "    ]\n",
    "\n",
    "    # Call the function to generate your requirements.txt\n",
    "    generate_precise_requirements(my_application_packages, 'requirements.txt')\n",
    "\n",
    "    print(\"\\n--- Important Note ---\")\n",
    "    print(\"This script generates a requirements.txt based on *your current Python environment*.\")\n",
    "    print(\"Ensure you run this in the same virtual environment where your project's dependencies are installed.\")\n",
    "    print(\"For a truly exhaustive list, `pip freeze > requirements.txt` is often used,\")\n",
    "    print(\"but this script gives you control over which packages are included.\")"
   ]
  },
  {
   "cell_type": "code",
   "execution_count": null,
   "id": "9e49ef6c-f383-4c17-a246-e44f020b028b",
   "metadata": {},
   "outputs": [],
   "source": []
  },
  {
   "cell_type": "code",
   "execution_count": null,
   "id": "69bde2e6-bbd3-475b-8c19-036eb9c54546",
   "metadata": {},
   "outputs": [],
   "source": []
  },
  {
   "cell_type": "code",
   "execution_count": 11,
   "id": "1ff620d8-6c61-4d4f-a6ac-ae2488f915e1",
   "metadata": {},
   "outputs": [],
   "source": [
    "def print_folder_tree(startpath: str, exclude_dirs: list = None, exclude_files: list = None):\n",
    "    \"\"\"\n",
    "    Prints the directory tree starting from 'startpath'.\n",
    "\n",
    "    Args:\n",
    "        startpath (str): The root directory from which to start printing the tree.\n",
    "        exclude_dirs (list): A list of directory names to exclude from the tree.\n",
    "                             (e.g., ['.git', '__pycache__', '.venv'])\n",
    "        exclude_files (list): A list of file extensions or full file names to exclude.\n",
    "                              (e.g., ['.pyc', '.DS_Store', 'Thumbs.db'])\n",
    "    \"\"\"\n",
    "    if exclude_dirs is None:\n",
    "        exclude_dirs = ['.git', '__pycache__', '.venv', 'node_modules', '.dockerignore', '.ipynb_checkpoints']\n",
    "    if exclude_files is None:\n",
    "        exclude_files = ['.pyc', '.DS_Store', 'Thumbs.db']\n",
    "\n",
    "    print(f\"--- Folder Tree for: {startpath} ---\")\n",
    "    for root, dirs, files in os.walk(startpath):\n",
    "        # Calculate current level for indentation\n",
    "        level = root.replace(startpath, '').count(os.sep)\n",
    "        indent = ' ' * 4 * (level)\n",
    "        \n",
    "        # Print current directory\n",
    "        print(f'{indent}{os.path.basename(root)}/')\n",
    "\n",
    "        # Filter out excluded directories before walking into them\n",
    "        dirs[:] = [d for d in dirs if d not in exclude_dirs]\n",
    "        \n",
    "        # Print files in the current directory\n",
    "        subindent = ' ' * 4 * (level + 1)\n",
    "        for f in files:\n",
    "            # Filter out excluded files\n",
    "            if f not in exclude_files and not any(f.endswith(ext) for ext in exclude_files if ext.startswith('.')):\n",
    "                print(f'{subindent}{f}')\n",
    "    print(\"--- End Folder Tree ---\")"
   ]
  },
  {
   "cell_type": "code",
   "execution_count": 12,
   "id": "0c37b118-60fd-4b3e-8693-f9f3cc6071b5",
   "metadata": {},
   "outputs": [
    {
     "name": "stdout",
     "output_type": "stream",
     "text": [
      "--- Folder Tree for: /home/jon/workshop/psql_monitor/psql_monitor ---\n",
      "psql_monitor/\n",
      "    LICENSE\n",
      "    main.py\n",
      "    requirements.txt\n",
      "    .gitignore\n",
      "    README.md\n",
      "    docker-compose.yml\n",
      "    monitor_monitor.ipynb\n",
      "    Dockerfile\n",
      "    monitor/\n",
      "        .env\n",
      "        __init__.py\n",
      "        constants.py\n",
      "        database/\n",
      "            ask_db_generalities.py\n",
      "            ask_db_tables.py\n",
      "            __init__.py\n",
      "            engine.py\n",
      "        routers/\n",
      "            generalities.py\n",
      "            tables.py\n",
      "            __init__.py\n",
      "        operations/\n",
      "            generalities.py\n",
      "            tables.py\n",
      "            __init__.py\n",
      "--- End Folder Tree ---\n"
     ]
    }
   ],
   "source": [
    "print_folder_tree(os.getcwd())"
   ]
  },
  {
   "cell_type": "code",
   "execution_count": null,
   "id": "c301bfd8-3e1d-4f97-882c-3a08c6e8f394",
   "metadata": {},
   "outputs": [],
   "source": []
  }
 ],
 "metadata": {
  "kernelspec": {
   "display_name": "chessism_gpu",
   "language": "python",
   "name": "chessism_gpu"
  },
  "language_info": {
   "codemirror_mode": {
    "name": "ipython",
    "version": 3
   },
   "file_extension": ".py",
   "mimetype": "text/x-python",
   "name": "python",
   "nbconvert_exporter": "python",
   "pygments_lexer": "ipython3",
   "version": "3.12.9"
  }
 },
 "nbformat": 4,
 "nbformat_minor": 5
}
